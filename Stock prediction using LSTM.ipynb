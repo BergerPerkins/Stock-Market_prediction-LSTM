{
 "cells": [
  {
   "cell_type": "code",
   "execution_count": 1,
   "id": "783fa2f4",
   "metadata": {},
   "outputs": [],
   "source": [
    "# Import libraries\n",
    "import pandas as pd\n",
    "import numpy as np\n",
    "import matplotlib.pyplot as plt\n",
    "from keras.models import Sequential\n",
    "from keras.layers import LSTM, Dense\n",
    "from sklearn.preprocessing import MinMaxScaler"
   ]
  },
  {
   "cell_type": "code",
   "execution_count": 2,
   "id": "d2d655d2",
   "metadata": {},
   "outputs": [
    {
     "data": {
      "text/html": [
       "<div>\n",
       "<style scoped>\n",
       "    .dataframe tbody tr th:only-of-type {\n",
       "        vertical-align: middle;\n",
       "    }\n",
       "\n",
       "    .dataframe tbody tr th {\n",
       "        vertical-align: top;\n",
       "    }\n",
       "\n",
       "    .dataframe thead th {\n",
       "        text-align: right;\n",
       "    }\n",
       "</style>\n",
       "<table border=\"1\" class=\"dataframe\">\n",
       "  <thead>\n",
       "    <tr style=\"text-align: right;\">\n",
       "      <th></th>\n",
       "      <th>Date</th>\n",
       "      <th>Low</th>\n",
       "      <th>Open</th>\n",
       "      <th>Volume</th>\n",
       "      <th>High</th>\n",
       "      <th>Close</th>\n",
       "      <th>Adjusted Close</th>\n",
       "    </tr>\n",
       "  </thead>\n",
       "  <tbody>\n",
       "    <tr>\n",
       "      <th>0</th>\n",
       "      <td>12-12-1980</td>\n",
       "      <td>0.128348</td>\n",
       "      <td>0.128348</td>\n",
       "      <td>469033600</td>\n",
       "      <td>0.128906</td>\n",
       "      <td>0.128348</td>\n",
       "      <td>0.100453</td>\n",
       "    </tr>\n",
       "    <tr>\n",
       "      <th>1</th>\n",
       "      <td>15-12-1980</td>\n",
       "      <td>0.121652</td>\n",
       "      <td>0.122210</td>\n",
       "      <td>175884800</td>\n",
       "      <td>0.122210</td>\n",
       "      <td>0.121652</td>\n",
       "      <td>0.095213</td>\n",
       "    </tr>\n",
       "    <tr>\n",
       "      <th>2</th>\n",
       "      <td>16-12-1980</td>\n",
       "      <td>0.112723</td>\n",
       "      <td>0.113281</td>\n",
       "      <td>105728000</td>\n",
       "      <td>0.113281</td>\n",
       "      <td>0.112723</td>\n",
       "      <td>0.088224</td>\n",
       "    </tr>\n",
       "    <tr>\n",
       "      <th>3</th>\n",
       "      <td>17-12-1980</td>\n",
       "      <td>0.115513</td>\n",
       "      <td>0.115513</td>\n",
       "      <td>86441600</td>\n",
       "      <td>0.116071</td>\n",
       "      <td>0.115513</td>\n",
       "      <td>0.090408</td>\n",
       "    </tr>\n",
       "    <tr>\n",
       "      <th>4</th>\n",
       "      <td>18-12-1980</td>\n",
       "      <td>0.118862</td>\n",
       "      <td>0.118862</td>\n",
       "      <td>73449600</td>\n",
       "      <td>0.119420</td>\n",
       "      <td>0.118862</td>\n",
       "      <td>0.093029</td>\n",
       "    </tr>\n",
       "    <tr>\n",
       "      <th>...</th>\n",
       "      <td>...</td>\n",
       "      <td>...</td>\n",
       "      <td>...</td>\n",
       "      <td>...</td>\n",
       "      <td>...</td>\n",
       "      <td>...</td>\n",
       "      <td>...</td>\n",
       "    </tr>\n",
       "    <tr>\n",
       "      <th>10339</th>\n",
       "      <td>14-12-2021</td>\n",
       "      <td>172.210007</td>\n",
       "      <td>175.250000</td>\n",
       "      <td>139380400</td>\n",
       "      <td>177.740005</td>\n",
       "      <td>174.330002</td>\n",
       "      <td>174.330002</td>\n",
       "    </tr>\n",
       "    <tr>\n",
       "      <th>10340</th>\n",
       "      <td>15-12-2021</td>\n",
       "      <td>172.309998</td>\n",
       "      <td>175.110001</td>\n",
       "      <td>131063300</td>\n",
       "      <td>179.500000</td>\n",
       "      <td>179.300003</td>\n",
       "      <td>179.300003</td>\n",
       "    </tr>\n",
       "    <tr>\n",
       "      <th>10341</th>\n",
       "      <td>16-12-2021</td>\n",
       "      <td>170.750000</td>\n",
       "      <td>179.279999</td>\n",
       "      <td>150185800</td>\n",
       "      <td>181.139999</td>\n",
       "      <td>172.259995</td>\n",
       "      <td>172.259995</td>\n",
       "    </tr>\n",
       "    <tr>\n",
       "      <th>10342</th>\n",
       "      <td>17-12-2021</td>\n",
       "      <td>169.690002</td>\n",
       "      <td>169.929993</td>\n",
       "      <td>195432700</td>\n",
       "      <td>173.470001</td>\n",
       "      <td>171.139999</td>\n",
       "      <td>171.139999</td>\n",
       "    </tr>\n",
       "    <tr>\n",
       "      <th>10343</th>\n",
       "      <td>20-12-2021</td>\n",
       "      <td>167.470001</td>\n",
       "      <td>168.279999</td>\n",
       "      <td>51533327</td>\n",
       "      <td>170.580002</td>\n",
       "      <td>170.289993</td>\n",
       "      <td>170.289993</td>\n",
       "    </tr>\n",
       "  </tbody>\n",
       "</table>\n",
       "<p>10344 rows × 7 columns</p>\n",
       "</div>"
      ],
      "text/plain": [
       "             Date         Low        Open     Volume        High       Close  \\\n",
       "0      12-12-1980    0.128348    0.128348  469033600    0.128906    0.128348   \n",
       "1      15-12-1980    0.121652    0.122210  175884800    0.122210    0.121652   \n",
       "2      16-12-1980    0.112723    0.113281  105728000    0.113281    0.112723   \n",
       "3      17-12-1980    0.115513    0.115513   86441600    0.116071    0.115513   \n",
       "4      18-12-1980    0.118862    0.118862   73449600    0.119420    0.118862   \n",
       "...           ...         ...         ...        ...         ...         ...   \n",
       "10339  14-12-2021  172.210007  175.250000  139380400  177.740005  174.330002   \n",
       "10340  15-12-2021  172.309998  175.110001  131063300  179.500000  179.300003   \n",
       "10341  16-12-2021  170.750000  179.279999  150185800  181.139999  172.259995   \n",
       "10342  17-12-2021  169.690002  169.929993  195432700  173.470001  171.139999   \n",
       "10343  20-12-2021  167.470001  168.279999   51533327  170.580002  170.289993   \n",
       "\n",
       "       Adjusted Close  \n",
       "0            0.100453  \n",
       "1            0.095213  \n",
       "2            0.088224  \n",
       "3            0.090408  \n",
       "4            0.093029  \n",
       "...               ...  \n",
       "10339      174.330002  \n",
       "10340      179.300003  \n",
       "10341      172.259995  \n",
       "10342      171.139999  \n",
       "10343      170.289993  \n",
       "\n",
       "[10344 rows x 7 columns]"
      ]
     },
     "execution_count": 2,
     "metadata": {},
     "output_type": "execute_result"
    }
   ],
   "source": [
    "# Load data\n",
    "df = pd.read_csv(r\"C:\\Users\\Berger\\anaconda111\\Ai practice\\datasets\\AAPL.csv\")\n",
    "df"
   ]
  },
  {
   "cell_type": "code",
   "execution_count": 3,
   "id": "e0f340bf",
   "metadata": {},
   "outputs": [],
   "source": [
    "# Data preprocessing\n",
    "scaler = MinMaxScaler(feature_range=(0, 1))\n",
    "scaled_data = scaler.fit_transform(df['Close'].values.reshape(-1, 1))"
   ]
  },
  {
   "cell_type": "code",
   "execution_count": 4,
   "id": "f3caaace",
   "metadata": {},
   "outputs": [],
   "source": [
    "# Split data into training and testing sets\n",
    "train_size = int(len(scaled_data) * 0.8)\n",
    "test_size = len(scaled_data) - train_size\n",
    "train_data, test_data = scaled_data[0:train_size,:], scaled_data[train_size:len(scaled_data),:]"
   ]
  },
  {
   "cell_type": "code",
   "execution_count": 5,
   "id": "9908f163",
   "metadata": {},
   "outputs": [],
   "source": [
    "# Define time steps and create input/output sequences\n",
    "time_steps = 60\n",
    "X_train, Y_train = [], []\n",
    "for i in range(time_steps, len(train_data)):\n",
    "    X_train.append(train_data[i-time_steps:i, 0])\n",
    "    Y_train.append(train_data[i, 0])\n",
    "X_train, Y_train = np.array(X_train), np.array(Y_train)"
   ]
  },
  {
   "cell_type": "code",
   "execution_count": 6,
   "id": "05acbd87",
   "metadata": {},
   "outputs": [],
   "source": [
    "X_test, Y_test = [], []\n",
    "for i in range(time_steps, len(test_data)):\n",
    "    X_test.append(test_data[i-time_steps:i, 0])\n",
    "    Y_test.append(test_data[i, 0])\n",
    "X_test, Y_test = np.array(X_test), np.array(Y_test)"
   ]
  },
  {
   "cell_type": "code",
   "execution_count": 7,
   "id": "4def586b",
   "metadata": {},
   "outputs": [],
   "source": [
    "# Reshape input data for LSTM\n",
    "X_train = np.reshape(X_train, (X_train.shape[0], X_train.shape[1], 1))\n",
    "X_test = np.reshape(X_test, (X_test.shape[0], X_test.shape[1], 1))"
   ]
  },
  {
   "cell_type": "code",
   "execution_count": 8,
   "id": "e4939ac9",
   "metadata": {},
   "outputs": [],
   "source": [
    "# Build LSTM model\n",
    "model = Sequential()\n",
    "model.add(LSTM(units=50, return_sequences=True, input_shape=(X_train.shape[1], 1)))\n",
    "model.add(LSTM(units=50))\n",
    "model.add(Dense(1))"
   ]
  },
  {
   "cell_type": "code",
   "execution_count": 9,
   "id": "1cc18675",
   "metadata": {},
   "outputs": [],
   "source": [
    "# Compile model\n",
    "model.compile(optimizer='adam', loss='mean_squared_error')"
   ]
  },
  {
   "cell_type": "code",
   "execution_count": 10,
   "id": "752d8fb7",
   "metadata": {
    "scrolled": false
   },
   "outputs": [
    {
     "name": "stdout",
     "output_type": "stream",
     "text": [
      "Epoch 1/50\n",
      "257/257 [==============================] - 16s 47ms/step - loss: 2.2850e-05 - val_loss: 7.7535e-04\n",
      "Epoch 2/50\n",
      "257/257 [==============================] - 12s 47ms/step - loss: 2.5507e-06 - val_loss: 0.0017\n",
      "Epoch 3/50\n",
      "257/257 [==============================] - 13s 49ms/step - loss: 2.5849e-06 - val_loss: 0.0016\n",
      "Epoch 4/50\n",
      "257/257 [==============================] - 12s 45ms/step - loss: 2.6452e-06 - val_loss: 0.0017\n",
      "Epoch 5/50\n",
      "257/257 [==============================] - 11s 44ms/step - loss: 2.1414e-06 - val_loss: 6.6311e-04\n",
      "Epoch 6/50\n",
      "257/257 [==============================] - 11s 44ms/step - loss: 2.3091e-06 - val_loss: 8.4687e-04\n",
      "Epoch 7/50\n",
      "257/257 [==============================] - 11s 41ms/step - loss: 1.6191e-06 - val_loss: 0.0013\n",
      "Epoch 8/50\n",
      "257/257 [==============================] - 11s 44ms/step - loss: 1.8781e-06 - val_loss: 4.2049e-04\n",
      "Epoch 9/50\n",
      "257/257 [==============================] - 12s 45ms/step - loss: 1.8032e-06 - val_loss: 6.1110e-04\n",
      "Epoch 10/50\n",
      "257/257 [==============================] - 11s 43ms/step - loss: 1.5387e-06 - val_loss: 7.5344e-04\n",
      "Epoch 11/50\n",
      "257/257 [==============================] - 11s 43ms/step - loss: 1.5904e-06 - val_loss: 6.6550e-04\n",
      "Epoch 12/50\n",
      "257/257 [==============================] - 11s 44ms/step - loss: 1.6177e-06 - val_loss: 0.0013\n",
      "Epoch 13/50\n",
      "257/257 [==============================] - 11s 42ms/step - loss: 1.4608e-06 - val_loss: 7.0710e-04\n",
      "Epoch 14/50\n",
      "257/257 [==============================] - 11s 41ms/step - loss: 1.6516e-06 - val_loss: 3.1549e-04\n",
      "Epoch 15/50\n",
      "257/257 [==============================] - 12s 46ms/step - loss: 1.2657e-06 - val_loss: 5.8530e-04\n",
      "Epoch 16/50\n",
      "257/257 [==============================] - 12s 45ms/step - loss: 1.2850e-06 - val_loss: 3.3799e-04\n",
      "Epoch 17/50\n",
      "257/257 [==============================] - 11s 42ms/step - loss: 1.2915e-06 - val_loss: 2.8191e-04\n",
      "Epoch 18/50\n",
      "257/257 [==============================] - 13s 49ms/step - loss: 1.1944e-06 - val_loss: 3.0972e-04\n",
      "Epoch 19/50\n",
      "257/257 [==============================] - 13s 49ms/step - loss: 1.0441e-06 - val_loss: 4.0964e-04\n",
      "Epoch 20/50\n",
      "257/257 [==============================] - 12s 47ms/step - loss: 1.0632e-06 - val_loss: 1.8367e-04\n",
      "Epoch 21/50\n",
      "257/257 [==============================] - 11s 41ms/step - loss: 1.0068e-06 - val_loss: 6.6274e-04\n",
      "Epoch 22/50\n",
      "257/257 [==============================] - 11s 44ms/step - loss: 1.1190e-06 - val_loss: 2.7807e-04\n",
      "Epoch 23/50\n",
      "257/257 [==============================] - 11s 45ms/step - loss: 9.7955e-07 - val_loss: 3.3930e-04\n",
      "Epoch 24/50\n",
      "257/257 [==============================] - 11s 42ms/step - loss: 1.0287e-06 - val_loss: 3.2437e-04\n",
      "Epoch 25/50\n",
      "257/257 [==============================] - 11s 42ms/step - loss: 1.1216e-06 - val_loss: 4.0100e-04\n",
      "Epoch 26/50\n",
      "257/257 [==============================] - 11s 44ms/step - loss: 1.0262e-06 - val_loss: 3.5164e-04\n",
      "Epoch 27/50\n",
      "257/257 [==============================] - 11s 44ms/step - loss: 8.3762e-07 - val_loss: 2.4918e-04\n",
      "Epoch 28/50\n",
      "257/257 [==============================] - 11s 41ms/step - loss: 7.5948e-07 - val_loss: 3.1341e-04\n",
      "Epoch 29/50\n",
      "257/257 [==============================] - 12s 45ms/step - loss: 7.9699e-07 - val_loss: 1.7197e-04\n",
      "Epoch 30/50\n",
      "257/257 [==============================] - 11s 44ms/step - loss: 9.2389e-07 - val_loss: 2.9579e-04\n",
      "Epoch 31/50\n",
      "257/257 [==============================] - 11s 42ms/step - loss: 8.0785e-07 - val_loss: 3.4219e-04\n",
      "Epoch 32/50\n",
      "257/257 [==============================] - 12s 45ms/step - loss: 7.5343e-07 - val_loss: 4.0789e-04\n",
      "Epoch 33/50\n",
      "257/257 [==============================] - 11s 45ms/step - loss: 8.7513e-07 - val_loss: 3.4414e-04\n",
      "Epoch 34/50\n",
      "257/257 [==============================] - 11s 42ms/step - loss: 8.1854e-07 - val_loss: 2.9721e-04\n",
      "Epoch 35/50\n",
      "257/257 [==============================] - 12s 45ms/step - loss: 6.8372e-07 - val_loss: 1.8280e-04\n",
      "Epoch 36/50\n",
      "257/257 [==============================] - 12s 46ms/step - loss: 7.4736e-07 - val_loss: 1.7036e-04\n",
      "Epoch 37/50\n",
      "257/257 [==============================] - 12s 45ms/step - loss: 7.5557e-07 - val_loss: 1.9783e-04\n",
      "Epoch 38/50\n",
      "257/257 [==============================] - 11s 44ms/step - loss: 6.5031e-07 - val_loss: 1.4285e-04\n",
      "Epoch 39/50\n",
      "257/257 [==============================] - 13s 51ms/step - loss: 6.6348e-07 - val_loss: 2.2419e-04\n",
      "Epoch 40/50\n",
      "257/257 [==============================] - 12s 48ms/step - loss: 7.2271e-07 - val_loss: 2.1652e-04\n",
      "Epoch 41/50\n",
      "257/257 [==============================] - 12s 47ms/step - loss: 6.9005e-07 - val_loss: 1.9859e-04\n",
      "Epoch 42/50\n",
      "257/257 [==============================] - 12s 46ms/step - loss: 5.9430e-07 - val_loss: 1.1978e-04\n",
      "Epoch 43/50\n",
      "257/257 [==============================] - 12s 48ms/step - loss: 6.4865e-07 - val_loss: 2.1598e-04\n",
      "Epoch 44/50\n",
      "257/257 [==============================] - 12s 46ms/step - loss: 1.0676e-06 - val_loss: 2.2019e-04\n",
      "Epoch 45/50\n",
      "257/257 [==============================] - 12s 48ms/step - loss: 6.5682e-07 - val_loss: 7.6194e-05\n",
      "Epoch 46/50\n",
      "257/257 [==============================] - 12s 47ms/step - loss: 6.7524e-07 - val_loss: 1.4121e-04\n",
      "Epoch 47/50\n",
      "257/257 [==============================] - 12s 47ms/step - loss: 7.4350e-07 - val_loss: 2.2039e-04\n",
      "Epoch 48/50\n",
      "257/257 [==============================] - 13s 49ms/step - loss: 6.3049e-07 - val_loss: 2.3208e-04\n",
      "Epoch 49/50\n",
      "257/257 [==============================] - 12s 47ms/step - loss: 5.5757e-07 - val_loss: 1.0767e-04\n",
      "Epoch 50/50\n",
      "257/257 [==============================] - 12s 45ms/step - loss: 7.4949e-07 - val_loss: 1.9265e-04\n"
     ]
    }
   ],
   "source": [
    "# Train model\n",
    "history = model.fit(X_train, Y_train, epochs=50, batch_size=32, validation_data=(X_test, Y_test), verbose=1)"
   ]
  },
  {
   "cell_type": "code",
   "execution_count": 11,
   "id": "4e3159b3",
   "metadata": {},
   "outputs": [
    {
     "name": "stdout",
     "output_type": "stream",
     "text": [
      "Train loss:  7.560282142549113e-07\n",
      "Test loss:  0.0001926540135173127\n"
     ]
    }
   ],
   "source": [
    "# Evaluate model\n",
    "train_loss = model.evaluate(X_train, Y_train, verbose=0)\n",
    "test_loss = model.evaluate(X_test, Y_test, verbose=0)\n",
    "print('Train loss: ', train_loss)\n",
    "print('Test loss: ', test_loss)"
   ]
  },
  {
   "cell_type": "code",
   "execution_count": 12,
   "id": "3ce53686",
   "metadata": {},
   "outputs": [
    {
     "name": "stdout",
     "output_type": "stream",
     "text": [
      "257/257 [==============================] - 5s 16ms/step\n",
      "63/63 [==============================] - 1s 15ms/step\n"
     ]
    }
   ],
   "source": [
    "# Make predictions\n",
    "train_predict = model.predict(X_train)\n",
    "test_predict = model.predict(X_test)"
   ]
  },
  {
   "cell_type": "code",
   "execution_count": 13,
   "id": "28367149",
   "metadata": {},
   "outputs": [],
   "source": [
    "# Inverse transform predictions to original scale\n",
    "train_predict = scaler.inverse_transform(train_predict)\n",
    "Y_train = scaler.inverse_transform([Y_train])\n",
    "test_predict = scaler.inverse_transform(test_predict)\n",
    "Y_test = scaler.inverse_transform([Y_test])"
   ]
  },
  {
   "cell_type": "code",
   "execution_count": 35,
   "id": "29e3ec5e",
   "metadata": {
    "scrolled": false
   },
   "outputs": [
    {
     "data": {
      "image/png": "[encoded data removed]",
      "text/plain": [
       "<Figure size 640x480 with 1 Axes>"
      ]
     },
     "metadata": {},
     "output_type": "display_data"
    }
   ],
   "source": [
    "# Plot predictions\n",
    "plt.plot(df['Close'].values, color='blue', label='Actual')\n",
    "plt.plot(range(time_steps, time_steps+len(train_predict)), train_predict, color='green', label='Train')\n",
    "plt.legend()\n",
    "plt.show()"
   ]
  },
  {
   "cell_type": "code",
   "execution_count": null,
   "id": "880fcbfd",
   "metadata": {},
   "outputs": [],
   "source": []
  },
  {
   "cell_type": "code",
   "execution_count": null,
   "id": "62ca4740",
   "metadata": {},
   "outputs": [],
   "source": []
  },
  {
   "cell_type": "code",
   "execution_count": null,
   "id": "9c5773b1",
   "metadata": {},
   "outputs": [],
   "source": []
  }
 ],
 "metadata": {
  "kernelspec": {
   "display_name": "Python 3 (ipykernel)",
   "language": "python",
   "name": "python3"
  },
  "language_info": {
   "codemirror_mode": {
    "name": "ipython",
    "version": 3
   },
   "file_extension": ".py",
   "mimetype": "text/x-python",
   "name": "python",
   "nbconvert_exporter": "python",
   "pygments_lexer": "ipython3",
   "version": "3.9.13"
  }
 },
 "nbformat": 4,
 "nbformat_minor": 5
}
